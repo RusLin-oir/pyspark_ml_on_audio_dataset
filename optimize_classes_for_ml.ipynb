{
 "cells": [
  {
   "cell_type": "code",
   "execution_count": 1,
   "metadata": {},
   "outputs": [],
   "source": [
    "from pyspark.sql import SparkSession, SQLContext\n",
    "\n",
    "# initiate the Spark Session\n",
    "ss = SparkSession.builder.getOrCreate()"
   ]
  },
  {
   "cell_type": "code",
   "execution_count": null,
   "metadata": {},
   "outputs": [],
   "source": [
    "# Read your csv data file whichever path it lies in\n",
    "mfcc_df = ss.read.csv(\"s3://pysparkml-for-audio/mfcc_final.csv\", header=True, inferSchema=True).cache()\n",
    "# Remove unnecessary column\n",
    "mfcc_df = mfcc_df.drop('_co')\n",
    "\n",
    "# define a udf that extracts the speaker id out of the filename\n",
    "from pyspark.sql.functions import *\n",
    "def get_speaker(filename):\n",
    "    i = filename.index('sp')\n",
    "    return int(filename[i+2:i+6])\n",
    "speaker = udf(get_speaker)\n",
    "\n",
    "mfcc = mfcc_df.withColumn('Speaker', speaker('FileName')).drop('FileName')\n",
    "\n",
    "speaker_count = mfcc.groupBy(\"Speaker\").count().orderBy(\"count\", ascending=True)\n",
    "# speaker5 = results.join(speaker_id, \"Speaker\",'left_semi')\n",
    "# speaker5_rdd = speaker5.rdd\n",
    "\n",
    "average_num_wav_files = speaker_count.select(avg(\"count\")).rdd.first()[0]\n",
    "std_dev_num_wav_files = speaker_count.select(stddev_pop(\"count\")).rdd.first()[0]\n",
    "min_num_wav_files = int(average_num_wav_files - std_dev_num_wav_files)\n",
    "max_num_wav_files = int(average_num_wav_files + std_dev_num_wav_files)\n",
    "\n",
    "speaker_id = speaker_count.filter(\"count >= {} and count <= {}\".format(min_num_wav_files, max_num_wav_files))\n",
    "# join on your dataset i.e. mfcc, cqt or both concatenated\n",
    "speaker_114 = mfcc.join(speaker_id, \"Speaker\",'left_semi')"
   ]
  }
 ],
 "metadata": {
  "kernelspec": {
   "display_name": "Python 3",
   "language": "python",
   "name": "python3"
  },
  "language_info": {
   "codemirror_mode": {
    "name": "ipython",
    "version": 3
   },
   "file_extension": ".py",
   "mimetype": "text/x-python",
   "name": "python",
   "nbconvert_exporter": "python",
   "pygments_lexer": "ipython3",
   "version": "3.7.4"
  }
 },
 "nbformat": 4,
 "nbformat_minor": 2
}
