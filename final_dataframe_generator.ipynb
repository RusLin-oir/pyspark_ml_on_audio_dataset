{
 "cells": [
  {
   "cell_type": "code",
   "execution_count": 34,
   "metadata": {},
   "outputs": [],
   "source": [
    "from pyspark import SparkContext\n",
    "from pyspark.sql import SparkSession\n",
    "from pyspark.sql.functions import *\n",
    "ss = SparkSession.builder.getOrCreate()\n",
    "sc = SparkContext.getOrCreate()"
   ]
  },
  {
   "cell_type": "code",
   "execution_count": 35,
   "metadata": {},
   "outputs": [],
   "source": [
    "import pandas as pd\n",
    "import glob\n",
    "\n",
    "path = 'OutputData/'\n",
    "all_files = glob.glob(path + \"/*.csv\")\n",
    "big_csv = []\n",
    "for filename in all_files:\n",
    "    df = pd.read_csv(filename, index_col=None, header=0)\n",
    "    big_csv.append(df)\n",
    "\n",
    "frame = pd.concat(big_csv, axis=0, ignore_index=True)"
   ]
  },
  {
   "cell_type": "code",
   "execution_count": 36,
   "metadata": {},
   "outputs": [],
   "source": [
    "frame.drop(['Unnamed: 0'],axis=1,inplace=True)\n",
    "frame.to_csv('final_chunk.csv', index=False)"
   ]
  },
  {
   "cell_type": "code",
   "execution_count": 39,
   "metadata": {},
   "outputs": [],
   "source": [
    "# read the file with features\n",
    "features = ss.read.csv('final_chunk.csv', header=True)\n",
    "# read the file of speaker id and gender\n",
    "gender = ss.read.csv('Lab41-SRI-VOiCES-speaker-gender-dataset.csv', header=True)"
   ]
  },
  {
   "cell_type": "code",
   "execution_count": 40,
   "metadata": {},
   "outputs": [
    {
     "name": "stdout",
     "output_type": "stream",
     "text": [
      "+--------------------+------------------+------------------+------------------+------------------+-------------------+------------------+-------------------+-----------------+-------------------+-----------------+-------------------+-------------------+-------------------+-------------------+-------------------+-------------------+------------------+------------------+--------------------+-------------------+--------------------+\n",
      "|            FileName|          Centroid|          variance|          skewness|          kurtosis|              mfcc1|             mfcc2|              mfcc3|            mfcc4|              mfcc5|            mfcc6|              mfcc7|              mfcc8|              mfcc9|             mfcc10|             mfcc11|             mfcc12|      roll_off_max|      roll_off_min|            flatness|   zeroCrossingRate|                 rms|\n",
      "+--------------------+------------------+------------------+------------------+------------------+-------------------+------------------+-------------------+-----------------+-------------------+-----------------+-------------------+-------------------+-------------------+-------------------+-------------------+-------------------+------------------+------------------+--------------------+-------------------+--------------------+\n",
      "|Lab41-SRI-VOiCES-...|1620.2174686534006|1710.4328940172586| 2096.841439465888|2460.7113523550383| -238.1007232666016|130.85983276367188| -27.92878150939941|58.97027969360352|-11.979715347290039|28.72724533081055| -9.854393005371094| 19.043672561645508|  8.469315528869629| 13.741710662841795|  9.363865852355957|  9.446971893310547|2817.2711146360193| 68.06919340453396|6.550573016284035...|0.08996793713872832| 0.05833432823419571|\n",
      "|Lab41-SRI-VOiCES-...| 2243.152507881446|1790.5375761430496| 2122.220934874498|2428.5257926773857|-254.62327575683597|124.95420837402344|-40.739112854003906|63.59742736816406|-32.964046478271484|30.92079734802246|-29.006088256835934|   9.12116241455078|-3.6300575733184814|   2.69360899925232|-1.3669551610946655|-0.3417458534240723|3680.2460793887867|268.65837545955884|0.000177901369170...| 0.1553136488970588| 0.03596187010407448|\n",
      "|Lab41-SRI-VOiCES-...|1932.1059962726547|1727.4634751519684| 2108.337624013547| 2459.150892244721|-260.09194946289057|133.04216003417972| -19.42926406860352|47.11861038208008| -30.59108543395996|19.13109397888184|-28.015047073364254|-0.3847357928752899|  -7.77484655380249|-0.3276048004627228|-6.2965660095214835|-10.721835136413574|3191.4740349264707|253.63263298483454|0.000114673071948...|   0.12005615234375|0.040678095072507865|\n",
      "|Lab41-SRI-VOiCES-...|1315.3857381849216|1418.2929875435048|1806.8306562006253|2187.5821921365673| -328.2187194824219| 118.4645004272461|-0.5670452117919922|65.27433013916016| 20.235837936401367|3.614080190658569|  -39.8622932434082| -40.84375381469727|-13.627202987670898| -17.45145034790039|-32.488868713378906| -3.498009443283081|    2174.853515625| 228.2361198874081|3.632427979027853...|0.07097886029411765|0.044780030846595764|\n",
      "+--------------------+------------------+------------------+------------------+------------------+-------------------+------------------+-------------------+-----------------+-------------------+-----------------+-------------------+-------------------+-------------------+-------------------+-------------------+-------------------+------------------+------------------+--------------------+-------------------+--------------------+\n",
      "only showing top 4 rows\n",
      "\n"
     ]
    }
   ],
   "source": [
    "features.show(4)"
   ]
  },
  {
   "cell_type": "code",
   "execution_count": 41,
   "metadata": {},
   "outputs": [],
   "source": [
    "# define a udf that extracts the speaker id out of the filename\n",
    "def get_speaker(filename):\n",
    "    i = filename.index('sp')\n",
    "    return int(filename[i+2:i+6])\n",
    "speaker = udf(get_speaker)"
   ]
  },
  {
   "cell_type": "code",
   "execution_count": 42,
   "metadata": {},
   "outputs": [],
   "source": [
    "# process speaker id\n",
    "features_df = features.withColumn('Speaker', speaker('FileName')).drop('FileName', '_c0')"
   ]
  },
  {
   "cell_type": "code",
   "execution_count": 43,
   "metadata": {},
   "outputs": [],
   "source": [
    "# join the dataframe\n",
    "results = features_df.join(gender, on='Speaker', how='leftOuter')"
   ]
  },
  {
   "cell_type": "code",
   "execution_count": 44,
   "metadata": {},
   "outputs": [
    {
     "name": "stdout",
     "output_type": "stream",
     "text": [
      "9381\n",
      "9381\n"
     ]
    }
   ],
   "source": [
    "# check the number of observations\n",
    "print(features.count())\n",
    "print(results.count())"
   ]
  },
  {
   "cell_type": "code",
   "execution_count": 45,
   "metadata": {},
   "outputs": [],
   "source": [
    "sc.stop()"
   ]
  },
  {
   "cell_type": "code",
   "execution_count": null,
   "metadata": {},
   "outputs": [],
   "source": []
  }
 ],
 "metadata": {
  "kernelspec": {
   "display_name": "Python 3",
   "language": "python",
   "name": "python3"
  },
  "language_info": {
   "codemirror_mode": {
    "name": "ipython",
    "version": 3
   },
   "file_extension": ".py",
   "mimetype": "text/x-python",
   "name": "python",
   "nbconvert_exporter": "python",
   "pygments_lexer": "ipython3",
   "version": "3.7.4"
  }
 },
 "nbformat": 4,
 "nbformat_minor": 2
}
