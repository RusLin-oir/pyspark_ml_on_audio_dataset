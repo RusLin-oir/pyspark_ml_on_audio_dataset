{
 "cells": [
  {
   "cell_type": "code",
   "execution_count": 1,
   "metadata": {},
   "outputs": [],
   "source": [
    "from pyspark import SparkContext\n",
    "from pyspark.sql import SparkSession\n",
    "from pyspark.sql.functions import *\n",
    "ss = SparkSession.builder.getOrCreate()\n",
    "sc = SparkContext.getOrCreate()"
   ]
  },
  {
   "cell_type": "code",
   "execution_count": 2,
   "metadata": {},
   "outputs": [],
   "source": [
    "# read the file with features\n",
    "features = ss.read.csv('final_chunk.csv', header=True)\n",
    "# read the file of speaker id and gender\n",
    "gender = ss.read.csv('Lab41-SRI-VOiCES-speaker-gender-dataset.csv', header=True)"
   ]
  },
  {
   "cell_type": "code",
   "execution_count": 4,
   "metadata": {},
   "outputs": [],
   "source": [
    "# define a udf that extracts the speaker id out of the filename\n",
    "def get_speaker(filename):\n",
    "    i = filename.index('sp')\n",
    "    return int(filename[i+2:i+6])\n",
    "speaker = udf(get_speaker)"
   ]
  },
  {
   "cell_type": "code",
   "execution_count": 5,
   "metadata": {},
   "outputs": [],
   "source": [
    "# process speaker id\n",
    "features_df = features.withColumn('Speaker', speaker('FileName')).drop('FileName', '_c0')"
   ]
  },
  {
   "cell_type": "code",
   "execution_count": 6,
   "metadata": {},
   "outputs": [],
   "source": [
    "# join the dataframe\n",
    "results = features_df.join(gender, on='Speaker', how='leftOuter')"
   ]
  },
  {
   "cell_type": "code",
   "execution_count": 7,
   "metadata": {},
   "outputs": [
    {
     "name": "stdout",
     "output_type": "stream",
     "text": [
      "9381\n",
      "9381\n"
     ]
    }
   ],
   "source": [
    "# check the number of observations\n",
    "print(features.count())\n",
    "print(results.count())"
   ]
  },
  {
   "cell_type": "markdown",
   "metadata": {},
   "source": [
    "## Five Speaker Recognition in H2O"
   ]
  },
  {
   "cell_type": "code",
   "execution_count": 66,
   "metadata": {},
   "outputs": [],
   "source": [
    "from pyspark import SparkContext\n",
    "from pyspark.sql import SparkSession\n",
    "from pysparkling import *\n",
    "from h2o.estimators.deeplearning import H2ODeepLearningEstimator\n",
    "import h2o"
   ]
  },
  {
   "cell_type": "code",
   "execution_count": 67,
   "metadata": {
    "scrolled": true
   },
   "outputs": [],
   "source": [
    "speaker_count = results.groupBy(\"Speaker\").count().orderBy(\"count\", ascending=False)\n",
    "speaker_id = speaker_count.filter(\"count==160\")\n",
    "speaker5 = results.join(speaker_id, \"Speaker\",'left_semi')\n",
    "speaker5_rdd = speaker5.rdd"
   ]
  },
  {
   "cell_type": "code",
   "execution_count": 68,
   "metadata": {},
   "outputs": [],
   "source": [
    "def double_safe(value):\n",
    "    try:\n",
    "        return float(value)\n",
    "    except ValueError:\n",
    "        return str(value)"
   ]
  },
  {
   "cell_type": "code",
   "execution_count": 70,
   "metadata": {},
   "outputs": [],
   "source": [
    "speaker5_rdd = speaker5_rdd.map(lambda row: [double_safe(x) for x in row])"
   ]
  },
  {
   "cell_type": "code",
   "execution_count": 74,
   "metadata": {},
   "outputs": [],
   "source": [
    "splits = speaker5_rdd.randomSplit([0.8,0.2])\n",
    "train_rdd = splits[0].cache()\n",
    "test_rdd = splits[0].cache()"
   ]
  },
  {
   "cell_type": "code",
   "execution_count": 75,
   "metadata": {},
   "outputs": [
    {
     "name": "stdout",
     "output_type": "stream",
     "text": [
      "\n",
      "Sparkling Water Context:\n",
      " * Sparkling Water Version: 3.28.0.1-1-2.4\n",
      " * H2O name: sparkling-water-niche_local-1579048523155\n",
      " * cluster size: 1\n",
      " * list of used nodes:\n",
      "  (executorId, host, port)\n",
      "  ------------------------\n",
      "  (driver,10.1.129.239,54323)\n",
      "  ------------------------\n",
      "\n",
      "  Open H2O Flow in browser: http://10.1.129.239:54323 (CMD + click in Mac OSX)\n",
      "\n",
      "    \n"
     ]
    }
   ],
   "source": [
    "sc = SparkContext.getOrCreate()\n",
    "ss = SparkSession.builder.getOrCreate()\n",
    "hc = H2OContext.getOrCreate(ss)"
   ]
  },
  {
   "cell_type": "code",
   "execution_count": 93,
   "metadata": {},
   "outputs": [],
   "source": [
    "train_h2o = hc.as_h2o_frame(train_rdd)\n",
    "train_h2o[\"_1\"] = train_h2o[\"_1\"].asfactor()\n",
    "test_h2o = hc.as_h2o_frame(test_rdd)\n",
    "test_h2o[\"_1\"] = test_h2o[\"_1\"].asfactor()"
   ]
  },
  {
   "cell_type": "code",
   "execution_count": 102,
   "metadata": {
    "scrolled": true
   },
   "outputs": [
    {
     "data": {
      "text/html": [
       "<table>\n",
       "<thead>\n",
       "<tr><th>       </th><th>_1  </th><th>_2                </th><th>_3                </th><th>_4                </th><th>_5                </th><th>_6                 </th><th>_7                </th><th>_8                 </th><th>_9                 </th><th>_10                </th><th>_11                </th><th>_12                </th><th>_13                </th><th>_14                </th><th>_15                </th><th>_16                </th><th>_17                </th><th>_18               </th><th>_19               </th><th>_20                   </th><th>_21                 </th><th>_22                 </th><th>_23   </th><th>_24            </th></tr>\n",
       "</thead>\n",
       "<tbody>\n",
       "<tr><td>type   </td><td>enum</td><td>real              </td><td>real              </td><td>real              </td><td>real              </td><td>real               </td><td>real              </td><td>real               </td><td>real               </td><td>real               </td><td>real               </td><td>real               </td><td>real               </td><td>real               </td><td>real               </td><td>real               </td><td>real               </td><td>real              </td><td>real              </td><td>real                  </td><td>real                </td><td>real                </td><td>string</td><td>string         </td></tr>\n",
       "<tr><td>mins   </td><td>    </td><td>715.2059285279704 </td><td>1013.5593618488223</td><td>1513.1846178536314</td><td>1958.853494352578 </td><td>-412.8054504394531 </td><td>81.93749237060547 </td><td>-55.19367218017578 </td><td>-16.482170104980472</td><td>-44.55499649047852 </td><td>-17.448844909667972</td><td>-41.35249328613281 </td><td>-46.75634384155274 </td><td>-26.22501945495605 </td><td>-21.78336334228516 </td><td>-36.863731384277344</td><td>-17.73868179321289 </td><td>810.1042498289232 </td><td>37.28347178629912 </td><td>1.6020314433262687e-05</td><td>0.037275461906934315</td><td>0.011590708047151566</td><td>NaN   </td><td>NaN            </td></tr>\n",
       "<tr><td>mean   </td><td>    </td><td>1558.8070289828577</td><td>1645.4631085427504</td><td>2077.656494133379 </td><td>2471.495041330062 </td><td>-302.8285923957825 </td><td>134.53789825439452</td><td>-9.15292090633302  </td><td>39.14161804774776  </td><td>-13.593262318102642</td><td>17.51758128463407  </td><td>-15.108535551548993</td><td>3.045485135971103  </td><td>-6.536512133499491 </td><td>1.229099655910068  </td><td>-4.30368997583064  </td><td>-2.2737829620717087</td><td>2603.0817451942044</td><td>181.96094557401526</td><td>0.00016070035927100436</td><td>0.08701105275437562 </td><td>0.03861259625118692 </td><td>NaN   </td><td>NaN            </td></tr>\n",
       "<tr><td>maxs   </td><td>    </td><td>2559.7953603088044</td><td>2343.098270017536 </td><td>2717.0924958863393</td><td>3026.5569576826   </td><td>-230.35374450683597</td><td>178.95611572265625</td><td>42.11531066894531  </td><td>85.78621673583984  </td><td>36.77939224243164  </td><td>45.564231872558594 </td><td>6.370003700256348  </td><td>26.140810012817386 </td><td>13.211542129516602 </td><td>22.85942840576172  </td><td>18.8350830078125   </td><td>12.855154037475586 </td><td>4639.6875         </td><td>433.8485502860916 </td><td>0.0006329945754259825 </td><td>0.17609428703871202 </td><td>0.09664590656757356 </td><td>NaN   </td><td>NaN            </td></tr>\n",
       "<tr><td>sigma  </td><td>    </td><td>358.6698156362024 </td><td>235.16936069339627</td><td>221.09896114976755</td><td>204.9879312940437 </td><td>30.20506190014551  </td><td>16.563647712618533</td><td>18.268424928874218 </td><td>14.553886596876195 </td><td>16.241692506073235 </td><td>12.519665162510204 </td><td>9.52584166590934   </td><td>15.447535027762957 </td><td>8.093034657290888  </td><td>8.061533117652063  </td><td>9.574708228295796  </td><td>5.881301348499163  </td><td>685.2094283753347 </td><td>73.07315482587877 </td><td>0.00011041697625960841</td><td>0.027090399693344966</td><td>0.013511326327634557</td><td>NaN   </td><td>NaN            </td></tr>\n",
       "<tr><td>zeros  </td><td>    </td><td>0                 </td><td>0                 </td><td>0                 </td><td>0                 </td><td>0                  </td><td>0                 </td><td>0                  </td><td>0                  </td><td>0                  </td><td>0                  </td><td>0                  </td><td>0                  </td><td>0                  </td><td>0                  </td><td>0                  </td><td>0                  </td><td>0                 </td><td>0                 </td><td>0                     </td><td>0                   </td><td>0                   </td><td>0     </td><td>0              </td></tr>\n",
       "<tr><td>missing</td><td>0   </td><td>0                 </td><td>0                 </td><td>0                 </td><td>0                 </td><td>0                  </td><td>0                 </td><td>0                  </td><td>0                  </td><td>0                  </td><td>0                  </td><td>0                  </td><td>0                  </td><td>0                  </td><td>0                  </td><td>0                  </td><td>0                  </td><td>0                 </td><td>0                 </td><td>0                     </td><td>0                   </td><td>0                   </td><td>0     </td><td>0              </td></tr>\n",
       "<tr><td>0      </td><td>112 </td><td>1671.1562898873133</td><td>1701.8863855572667</td><td>2028.1135336328884</td><td>2342.5140970890006</td><td>-298.9597473144531 </td><td>126.72098541259766</td><td>-32.87347412109375 </td><td>71.2174301147461   </td><td>-16.876304626464847</td><td>21.444076538085934 </td><td>4.175195217132568  </td><td>20.78470802307129  </td><td>12.976224899291992 </td><td>9.11994171142578   </td><td>2.8190600872039795 </td><td>9.46920108795166   </td><td>3028.5780204187768</td><td>73.15368210700072 </td><td>9.235877951141448e-05 </td><td>0.08256404893270622 </td><td>0.03318674489855766 </td><td>F     </td><td>train-clean-360</td></tr>\n",
       "<tr><td>1      </td><td>112 </td><td>1347.7045618032653</td><td>1595.7500042688212</td><td>2095.285844216399 </td><td>2541.932148963671 </td><td>-289.67327880859375</td><td>137.33297729492188</td><td>1.120954990386963  </td><td>26.13593292236328  </td><td>-5.648991584777832 </td><td>25.780946731567386 </td><td>-6.543709754943848 </td><td>20.5148868560791   </td><td>10.645992279052734 </td><td>7.391483783721924  </td><td>2.699304342269897  </td><td>3.668611764907837  </td><td>2135.1101345486113</td><td>99.32153018904322 </td><td>5.569871791522018e-05 </td><td>0.06941296403463648 </td><td>0.05940774083137512 </td><td>F     </td><td>train-clean-360</td></tr>\n",
       "<tr><td>2      </td><td>112 </td><td>2069.631624077236 </td><td>1818.2872267408914</td><td>2244.7122419652487</td><td>2622.212001148156 </td><td>-304.095458984375  </td><td>125.94711303710938</td><td>-11.63916015625    </td><td>35.59788513183594  </td><td>-25.28520393371582 </td><td>26.934654235839844 </td><td>-22.743227005004886</td><td>13.402088165283205 </td><td>-6.572965621948242 </td><td>3.3161582946777344 </td><td>-3.719818830490112 </td><td>-6.300156116485597 </td><td>3335.6736269864173</td><td>289.1536019065163 </td><td>0.00023887501447461543</td><td>0.1395693692294034  </td><td>0.03208668157458305 </td><td>F     </td><td>train-clean-360</td></tr>\n",
       "<tr><td>3      </td><td>112 </td><td>1596.914193759959 </td><td>1690.6639576888795</td><td>2163.6321938306096</td><td>2584.837691495432 </td><td>-310.015625        </td><td>132.55232238769528</td><td>-2.9341433048248287</td><td>23.20115089416504  </td><td>-13.7702054977417  </td><td>15.458219528198242 </td><td>-26.40255546569824 </td><td>-0.6616746783256531</td><td>-12.734781265258787</td><td>-4.948318004608153 </td><td>-6.538120746612549 </td><td>-5.497490882873535 </td><td>2555.243899498457 </td><td>237.07200038580245</td><td>0.00014145440945867452</td><td>0.08586516203703702 </td><td>0.03929301351308823 </td><td>F     </td><td>train-clean-360</td></tr>\n",
       "<tr><td>4      </td><td>112 </td><td>2372.8446210583684</td><td>1837.6490362052768</td><td>2135.3504639812427</td><td>2410.964475565125 </td><td>-344.04998779296875</td><td>100.80250549316406</td><td>-35.59255599975586 </td><td>67.10896301269531  </td><td>-22.482589721679688</td><td>17.48470115661621  </td><td>-14.129229545593262</td><td>7.206675052642822  </td><td>-1.0660542249679563</td><td>5.394028663635254  </td><td>-2.591430902481079 </td><td>-1.0080655813217163</td><td>3952.9320547101124</td><td>308.7880025551736 </td><td>0.000567260489333421  </td><td>0.16203871201157746 </td><td>0.01396926399320364 </td><td>F     </td><td>train-clean-360</td></tr>\n",
       "<tr><td>5      </td><td>112 </td><td>1528.1611531048875</td><td>1710.4718264296885</td><td>2156.144595425981 </td><td>2555.93676365531  </td><td>-278.5438232421875 </td><td>131.10514831542972</td><td>-7.494493007659912 </td><td>45.31076431274414  </td><td>-13.950371742248535</td><td>31.05943489074707  </td><td>-2.143545627593994 </td><td>21.698076248168945 </td><td>4.113466262817384  </td><td>16.303327560424805 </td><td>11.333690643310547 </td><td>8.426445960998535  </td><td>2599.1554953835225</td><td>56.31054964932528 </td><td>6.51183509035036e-05  </td><td>0.07910364324396307 </td><td>0.048004914075136185</td><td>F     </td><td>train-clean-360</td></tr>\n",
       "<tr><td>6      </td><td>112 </td><td>1456.6838120315515</td><td>1627.4079037224362</td><td>2100.576073025129 </td><td>2523.2329500028777</td><td>-292.9186706542969 </td><td>143.8218994140625 </td><td>8.78010082244873   </td><td>27.93449592590332  </td><td>-12.026968955993652</td><td>23.49558258056641  </td><td>-8.210707664489746 </td><td>14.768905639648438 </td><td>4.4274325370788565 </td><td>7.793083190917969  </td><td>0.4712729156017304 </td><td>-1.9340296983718872</td><td>2381.2847484241834</td><td>97.69467440518466 </td><td>9.808598406380041e-05 </td><td>0.08344684947620737 </td><td>0.040430117398500436</td><td>F     </td><td>train-clean-360</td></tr>\n",
       "<tr><td>7      </td><td>112 </td><td>879.9238397911553 </td><td>1112.837175847447 </td><td>1581.5314635349994</td><td>2027.8495758881922</td><td>-314.51666259765625</td><td>117.78079223632812</td><td>27.30963134765625  </td><td>41.13520431518555  </td><td>25.89082908630371  </td><td>-5.207821846008301 </td><td>-35.78371047973633 </td><td>-36.29622650146485 </td><td>-15.159318923950195</td><td>-16.242385864257812</td><td>-28.61943244934082 </td><td>-1.7688093185424805</td><td>1195.0780044367284</td><td>206.322940779321  </td><td>1.6020314433262687e-05</td><td>0.04555081340020576 </td><td>0.0794106125831604  </td><td>F     </td><td>train-clean-360</td></tr>\n",
       "<tr><td>8      </td><td>112 </td><td>1100.5724462449566</td><td>1343.8310559681806</td><td>1805.4148934980835</td><td>2233.756828496279 </td><td>-337.16900634765625</td><td>123.40656280517578</td><td>31.778078079223636 </td><td>54.726966857910156 </td><td>24.56557655334473  </td><td>11.751392364501953 </td><td>-19.80004119873047 </td><td>-25.287641525268555</td><td>-2.6434688568115234</td><td>0.16608546674251554</td><td>-18.75290870666504 </td><td>7.692393779754639  </td><td>1627.3473566228693</td><td>140.73049371892756</td><td>4.7030625864863396e-05</td><td>0.06127582896839489 </td><td>0.05586031824350357 </td><td>F     </td><td>train-clean-360</td></tr>\n",
       "<tr><td>9      </td><td>112 </td><td>1449.5108351150147</td><td>1642.3251423905856</td><td>2108.332605505619 </td><td>2532.304048200845 </td><td>-280.59732055664057</td><td>148.19598388671875</td><td>-12.55958080291748 </td><td>35.2907600402832   </td><td>-11.861166000366213</td><td>27.298627853393555 </td><td>-13.689859390258787</td><td>15.217538833618164 </td><td>-0.0987597182393074</td><td>6.182017803192139  </td><td>-1.453896403312683 </td><td>-4.563939094543457 </td><td>2424.390552662037 </td><td>130.48412181712962</td><td>0.00010776186536531895</td><td>0.077978314686214   </td><td>0.04486604034900665 </td><td>F     </td><td>train-clean-360</td></tr>\n",
       "</tbody>\n",
       "</table>"
      ]
     },
     "metadata": {},
     "output_type": "display_data"
    }
   ],
   "source": [
    "test_h2o.summary()"
   ]
  },
  {
   "cell_type": "code",
   "execution_count": 106,
   "metadata": {},
   "outputs": [
    {
     "data": {
      "text/plain": [
       "['_1',\n",
       " '_2',\n",
       " '_3',\n",
       " '_4',\n",
       " '_5',\n",
       " '_6',\n",
       " '_7',\n",
       " '_8',\n",
       " '_9',\n",
       " '_10',\n",
       " '_11',\n",
       " '_12',\n",
       " '_13',\n",
       " '_14',\n",
       " '_15',\n",
       " '_16',\n",
       " '_17',\n",
       " '_18',\n",
       " '_19',\n",
       " '_20',\n",
       " '_21',\n",
       " '_22',\n",
       " '_23',\n",
       " '_24']"
      ]
     },
     "execution_count": 106,
     "metadata": {},
     "output_type": "execute_result"
    }
   ],
   "source": [
    "test_h2o.names[:]"
   ]
  },
  {
   "cell_type": "code",
   "execution_count": 108,
   "metadata": {},
   "outputs": [],
   "source": [
    "predictors = test_h2o.names\n",
    "response = \"_1\"\n",
    "predictors.remove(response)"
   ]
  },
  {
   "cell_type": "code",
   "execution_count": 109,
   "metadata": {
    "scrolled": true
   },
   "outputs": [
    {
     "name": "stdout",
     "output_type": "stream",
     "text": [
      "AutoML progress: |████████████████████████████████████████████████████████| 100%\n"
     ]
    }
   ],
   "source": [
    "from h2o.automl import H2OAutoML\n",
    "model_automl = H2OAutoML(max_models = 10, seed = 1, nfolds = 3) # seed : Set a seed for reproducibility\n",
    "model_automl.train(x=predictors,\n",
    "                y=response,\n",
    "                training_frame=train_h2o)"
   ]
  },
  {
   "cell_type": "code",
   "execution_count": 110,
   "metadata": {},
   "outputs": [
    {
     "name": "stdout",
     "output_type": "stream",
     "text": [
      "stackedensemble prediction progress: |████████████████████████████████████| 100%\n"
     ]
    },
    {
     "data": {
      "text/html": [
       "<table>\n",
       "<thead>\n",
       "<tr><th style=\"text-align: right;\">  predict</th><th style=\"text-align: right;\">    p112</th><th style=\"text-align: right;\">      p1272</th><th style=\"text-align: right;\">     p2532</th><th style=\"text-align: right;\">      p5338</th><th style=\"text-align: right;\">     p6895</th></tr>\n",
       "</thead>\n",
       "<tbody>\n",
       "<tr><td style=\"text-align: right;\">      112</td><td style=\"text-align: right;\">0.96642 </td><td style=\"text-align: right;\">0.00108516 </td><td style=\"text-align: right;\">0.0235947 </td><td style=\"text-align: right;\">0.00149757 </td><td style=\"text-align: right;\">0.00740262</td></tr>\n",
       "<tr><td style=\"text-align: right;\">      112</td><td style=\"text-align: right;\">0.996078</td><td style=\"text-align: right;\">0.000208362</td><td style=\"text-align: right;\">0.00148143</td><td style=\"text-align: right;\">0.000263091</td><td style=\"text-align: right;\">0.00196911</td></tr>\n",
       "<tr><td style=\"text-align: right;\">      112</td><td style=\"text-align: right;\">0.994823</td><td style=\"text-align: right;\">0.000289055</td><td style=\"text-align: right;\">0.00238505</td><td style=\"text-align: right;\">0.00036427 </td><td style=\"text-align: right;\">0.00213827</td></tr>\n",
       "<tr><td style=\"text-align: right;\">      112</td><td style=\"text-align: right;\">0.993905</td><td style=\"text-align: right;\">0.000418329</td><td style=\"text-align: right;\">0.00247721</td><td style=\"text-align: right;\">0.000517753</td><td style=\"text-align: right;\">0.00268126</td></tr>\n",
       "<tr><td style=\"text-align: right;\">      112</td><td style=\"text-align: right;\">0.886907</td><td style=\"text-align: right;\">0.00239747 </td><td style=\"text-align: right;\">0.0907933 </td><td style=\"text-align: right;\">0.00331238 </td><td style=\"text-align: right;\">0.0165903 </td></tr>\n",
       "<tr><td style=\"text-align: right;\">      112</td><td style=\"text-align: right;\">0.994378</td><td style=\"text-align: right;\">0.000286551</td><td style=\"text-align: right;\">0.0027324 </td><td style=\"text-align: right;\">0.000383104</td><td style=\"text-align: right;\">0.00221997</td></tr>\n",
       "<tr><td style=\"text-align: right;\">      112</td><td style=\"text-align: right;\">0.995819</td><td style=\"text-align: right;\">0.000223064</td><td style=\"text-align: right;\">0.00161364</td><td style=\"text-align: right;\">0.000281206</td><td style=\"text-align: right;\">0.00206356</td></tr>\n",
       "<tr><td style=\"text-align: right;\">      112</td><td style=\"text-align: right;\">0.983417</td><td style=\"text-align: right;\">0.000712249</td><td style=\"text-align: right;\">0.00792675</td><td style=\"text-align: right;\">0.000947528</td><td style=\"text-align: right;\">0.00699651</td></tr>\n",
       "<tr><td style=\"text-align: right;\">      112</td><td style=\"text-align: right;\">0.994714</td><td style=\"text-align: right;\">0.000308207</td><td style=\"text-align: right;\">0.00216421</td><td style=\"text-align: right;\">0.000389916</td><td style=\"text-align: right;\">0.00242383</td></tr>\n",
       "<tr><td style=\"text-align: right;\">      112</td><td style=\"text-align: right;\">0.995679</td><td style=\"text-align: right;\">0.000230703</td><td style=\"text-align: right;\">0.00166088</td><td style=\"text-align: right;\">0.000301959</td><td style=\"text-align: right;\">0.00212702</td></tr>\n",
       "</tbody>\n",
       "</table>"
      ]
     },
     "metadata": {},
     "output_type": "display_data"
    },
    {
     "data": {
      "text/plain": []
     },
     "execution_count": 110,
     "metadata": {},
     "output_type": "execute_result"
    }
   ],
   "source": [
    "predictions = model_automl.predict(test_h2o)\n",
    "predictions"
   ]
  },
  {
   "cell_type": "code",
   "execution_count": 112,
   "metadata": {
    "scrolled": true
   },
   "outputs": [
    {
     "data": {
      "text/html": [
       "<table>\n",
       "<thead>\n",
       "<tr><th>model_id                                           </th><th style=\"text-align: right;\">  mean_per_class_error</th><th style=\"text-align: right;\">  logloss</th><th style=\"text-align: right;\">    rmse</th><th style=\"text-align: right;\">      mse</th></tr>\n",
       "</thead>\n",
       "<tbody>\n",
       "<tr><td>StackedEnsemble_BestOfFamily_AutoML_20200114_175341</td><td style=\"text-align: right;\">             0.0303852</td><td style=\"text-align: right;\"> 0.100782</td><td style=\"text-align: right;\">0.161907</td><td style=\"text-align: right;\">0.0262138</td></tr>\n",
       "<tr><td>StackedEnsemble_AllModels_AutoML_20200114_175341   </td><td style=\"text-align: right;\">             0.0380916</td><td style=\"text-align: right;\"> 0.359848</td><td style=\"text-align: right;\">0.315479</td><td style=\"text-align: right;\">0.0995273</td></tr>\n",
       "<tr><td>GLM_1_AutoML_20200114_175341                       </td><td style=\"text-align: right;\">             0.0383693</td><td style=\"text-align: right;\"> 0.116435</td><td style=\"text-align: right;\">0.169213</td><td style=\"text-align: right;\">0.0286329</td></tr>\n",
       "<tr><td>GBM_3_AutoML_20200114_175341                       </td><td style=\"text-align: right;\">             0.0873317</td><td style=\"text-align: right;\"> 0.25743 </td><td style=\"text-align: right;\">0.276639</td><td style=\"text-align: right;\">0.0765289</td></tr>\n",
       "<tr><td>GBM_4_AutoML_20200114_175341                       </td><td style=\"text-align: right;\">             0.102606 </td><td style=\"text-align: right;\"> 0.265297</td><td style=\"text-align: right;\">0.285629</td><td style=\"text-align: right;\">0.0815838</td></tr>\n",
       "<tr><td>GBM_2_AutoML_20200114_175341                       </td><td style=\"text-align: right;\">             0.11099  </td><td style=\"text-align: right;\"> 0.28118 </td><td style=\"text-align: right;\">0.29679 </td><td style=\"text-align: right;\">0.0880843</td></tr>\n",
       "<tr><td>GBM_1_AutoML_20200114_175341                       </td><td style=\"text-align: right;\">             0.115231 </td><td style=\"text-align: right;\"> 0.305624</td><td style=\"text-align: right;\">0.304796</td><td style=\"text-align: right;\">0.0929009</td></tr>\n",
       "<tr><td>XGBoost_1_AutoML_20200114_175341                   </td><td style=\"text-align: right;\">             0.126251 </td><td style=\"text-align: right;\"> 0.373277</td><td style=\"text-align: right;\">0.349027</td><td style=\"text-align: right;\">0.12182  </td></tr>\n",
       "<tr><td>XGBoost_3_AutoML_20200114_175341                   </td><td style=\"text-align: right;\">             0.12807  </td><td style=\"text-align: right;\"> 0.422733</td><td style=\"text-align: right;\">0.371722</td><td style=\"text-align: right;\">0.138177 </td></tr>\n",
       "<tr><td>DRF_1_AutoML_20200114_175341                       </td><td style=\"text-align: right;\">             0.133538 </td><td style=\"text-align: right;\"> 0.510788</td><td style=\"text-align: right;\">0.41083 </td><td style=\"text-align: right;\">0.168782 </td></tr>\n",
       "</tbody>\n",
       "</table>"
      ]
     },
     "metadata": {},
     "output_type": "display_data"
    },
    {
     "data": {
      "text/plain": []
     },
     "execution_count": 112,
     "metadata": {},
     "output_type": "execute_result"
    }
   ],
   "source": [
    "model_automl.leaderboard"
   ]
  },
  {
   "cell_type": "code",
   "execution_count": 113,
   "metadata": {},
   "outputs": [
    {
     "name": "stdout",
     "output_type": "stream",
     "text": [
      "Model Details\n",
      "=============\n",
      "H2OStackedEnsembleEstimator :  Stacked Ensemble\n",
      "Model Key:  StackedEnsemble_BestOfFamily_AutoML_20200114_174321\n",
      "\n",
      "No model summary for this model\n",
      "\n",
      "ModelMetricsMultinomialGLM: stackedensemble\n",
      "** Reported on train data. **\n",
      "\n",
      "MSE: 0.0012586324212841323\n",
      "RMSE: 0.035477209885842666\n",
      "\n",
      "ModelMetricsMultinomialGLM: stackedensemble\n",
      "** Reported on cross-validation data. **\n",
      "\n",
      "MSE: 0.026213809560013755\n",
      "RMSE: 0.16190679281615628\n"
     ]
    },
    {
     "data": {
      "text/plain": []
     },
     "execution_count": 113,
     "metadata": {},
     "output_type": "execute_result"
    }
   ],
   "source": [
    "h2o.get_model(\"StackedEnsemble_BestOfFamily_AutoML_20200114_174321\")"
   ]
  },
  {
   "cell_type": "code",
   "execution_count": 45,
   "metadata": {},
   "outputs": [],
   "source": [
    "sc.stop()"
   ]
  },
  {
   "cell_type": "code",
   "execution_count": null,
   "metadata": {},
   "outputs": [],
   "source": []
  }
 ],
 "metadata": {
  "kernelspec": {
   "display_name": "Python 3",
   "language": "python",
   "name": "python3"
  },
  "language_info": {
   "codemirror_mode": {
    "name": "ipython",
    "version": 3
   },
   "file_extension": ".py",
   "mimetype": "text/x-python",
   "name": "python",
   "nbconvert_exporter": "python",
   "pygments_lexer": "ipython3",
   "version": "3.7.4"
  }
 },
 "nbformat": 4,
 "nbformat_minor": 2
}
